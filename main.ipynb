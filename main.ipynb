{
 "cells": [
  {
   "cell_type": "code",
   "execution_count": 2,
   "outputs": [
    {
     "name": "stdout",
     "output_type": "stream",
     "text": [
      "ROOM: XC3\n",
      "\n",
      "\n",
      "\n",
      "Section: BSCS 6A\n",
      "Course: Technical Writing And Presentation Skills\n",
      "Instructor: Tipu Ismail\n",
      "Time: 8:45 - 10:15\n",
      "Day: Wednesday\n",
      "\n",
      "\n",
      "Section: BSCS 6B\n",
      "Course: Introduction To Cloud Computing\n",
      "Instructor: Mariyam Khalid\n",
      "Time: 11:45 - 13:15\n",
      "Day: Wednesday\n",
      "\n",
      "\n",
      "Section: BSCS 6B\n",
      "Course: Technical Writing And Presentation Skills\n",
      "Instructor: Tipu Ismail\n",
      "Time: 14:45 - 16:15\n",
      "Day: Wednesday\n",
      "\n",
      "\n",
      "Section: BSCS 6B\n",
      "Course: Technical Writing And Presentation Skills\n",
      "Instructor: Tipu Ismail\n",
      "Time: 13:15 - 14:45\n",
      "Day: Thursday\n",
      "\n",
      "\n",
      "Section: BSCS 6B\n",
      "Course: Artificial Intelligence\n",
      "Instructor: Faima Abbasi\n",
      "Time: 14:45 - 16:15\n",
      "Day: Thursday\n",
      "\n",
      "\n"
     ]
    }
   ],
   "source": [
    "from api import course_allocations\n",
    "from helpers.functions import str_to_time, pretty_string_time, pretty_string_name\n",
    "\n",
    "room = 'xc3'\n",
    "schedule_class = course_allocations.schedule(room)\n",
    "print(\"Room: {}\\n\\n\\n\".format(room).upper())\n",
    "for sch in schedule_class:\n",
    "    print(\n",
    "        'Section: {}\\nCourse: {}\\nInstructor: {}\\nTime: {}\\nDay: {}\\n\\n'\n",
    "            .format(\n",
    "            pretty_string_name(sch['SECTION']).upper(),\n",
    "            pretty_string_name(sch['COURSE']),\n",
    "            pretty_string_name(sch['INSTRUCTOR']),\n",
    "            pretty_string_time(str_to_time(sch['TIME'])),\n",
    "            pretty_string_name(sch['DAY'])\n",
    "        )\n",
    "    )"
   ],
   "metadata": {
    "collapsed": false,
    "pycharm": {
     "name": "#%% Q1\n"
    }
   }
  },
  {
   "cell_type": "code",
   "execution_count": 3,
   "outputs": [
    {
     "name": "stdout",
     "output_type": "stream",
     "text": [
      "ROOM: XC3, DAY: WEDNESDAY\n",
      "\n",
      "\n",
      "\n",
      "Section: BSCS 6A\n",
      "Course: Technical Writing And Presentation Skills\n",
      "Instructor: Tipu Ismail\n",
      "Time: 8:45 - 10:15\n",
      "\n",
      "\n",
      "Section: BSCS 6B\n",
      "Course: Introduction To Cloud Computing\n",
      "Instructor: Mariyam Khalid\n",
      "Time: 11:45 - 13:15\n",
      "\n",
      "\n",
      "Section: BSCS 6B\n",
      "Course: Technical Writing And Presentation Skills\n",
      "Instructor: Tipu Ismail\n",
      "Time: 14:45 - 16:15\n",
      "\n",
      "\n"
     ]
    }
   ],
   "source": [
    "from api import course_allocations\n",
    "from helpers.functions import str_to_time, pretty_string_time, pretty_string_name\n",
    "\n",
    "room = 'xc3'\n",
    "day = 'wednesday'\n",
    "schedule_class = course_allocations.schedule(room, day)\n",
    "print(\"Room: {}, day: {}\\n\\n\\n\".format(room, day).upper())\n",
    "for sch in schedule_class:\n",
    "    print(\n",
    "        'Section: {}\\nCourse: {}\\nInstructor: {}\\nTime: {}\\n\\n'\n",
    "            .format(\n",
    "            pretty_string_name(sch['SECTION']).upper(),\n",
    "            pretty_string_name(sch['COURSE']),\n",
    "            pretty_string_name(sch['INSTRUCTOR']),\n",
    "            pretty_string_time(str_to_time(sch['TIME']))\n",
    "        )\n",
    "    )"
   ],
   "metadata": {
    "collapsed": false,
    "pycharm": {
     "name": "#%% Q2\n"
    }
   }
  },
  {
   "cell_type": "code",
   "execution_count": 4,
   "outputs": [
    {
     "name": "stdout",
     "output_type": "stream",
     "text": [
      "ROOM: XC3\n",
      "\n",
      "Wednesday:\t 8:45 - 10:15\n",
      "Wednesday:\t 11:45 - 13:15\n",
      "Wednesday:\t 14:45 - 16:15\n",
      "Thursday:\t 13:15 - 14:45\n",
      "Thursday:\t 14:45 - 16:15\n"
     ]
    }
   ],
   "source": [
    "from api import course_allocations\n",
    "from helpers.functions import str_to_time, pretty_string_time, pretty_string_name\n",
    "\n",
    "room = 'xc3'\n",
    "schedule_class = course_allocations.time_slots(room)\n",
    "print(\"Room: {}\\n\".format(room).upper())\n",
    "for sch in schedule_class:\n",
    "    print(\n",
    "        '{}:\\t {}'\n",
    "            .format(\n",
    "            pretty_string_name(sch['DAY']),\n",
    "            pretty_string_time(str_to_time(sch['TIME']))\n",
    "        )\n",
    "    )\n"
   ],
   "metadata": {
    "collapsed": false,
    "pycharm": {
     "name": "#%% Q3\n"
    }
   }
  },
  {
   "cell_type": "code",
   "execution_count": 5,
   "outputs": [
    {
     "name": "stdout",
     "output_type": "stream",
     "text": [
      "ROOM: XC3\n",
      "\n",
      "Tipu Ismail\n",
      "Mariyam Khalid\n",
      "Faima Abbasi\n"
     ]
    }
   ],
   "source": [
    "from api import course_allocations\n",
    "from helpers.functions import str_to_time, pretty_string_time, pretty_string_name\n",
    "\n",
    "room = 'xc3'\n",
    "schedule_class = course_allocations.instructors(room)\n",
    "print(\"Room: {}\\n\".format(room).upper())\n",
    "for sch in schedule_class:\n",
    "    print(\n",
    "        '{}'\n",
    "            .format(\n",
    "            pretty_string_name(sch)\n",
    "        )\n",
    "    )\n",
    "\n"
   ],
   "metadata": {
    "collapsed": false,
    "pycharm": {
     "name": "#%% Q4\n"
    }
   }
  },
  {
   "cell_type": "code",
   "execution_count": 1,
   "outputs": [
    {
     "data": {
      "text/plain": "True"
     },
     "execution_count": 1,
     "metadata": {},
     "output_type": "execute_result"
    }
   ],
   "source": [
    "from api import course_allocations\n",
    "from helpers.functions import time_to_str\n",
    "\n",
    "course_allocations.insert(\n",
    "    section='BSCS 1A',\n",
    "    course='Computer Programming',\n",
    "    instructor='Mahwish Pervaiz',\n",
    "    time=time_to_str({\n",
    "        'start': {\n",
    "            'hours': 10,\n",
    "            'minutes': 15\n",
    "        },\n",
    "        'end': {\n",
    "            'hours': 11,\n",
    "            'minutes': 45\n",
    "        }\n",
    "    }),\n",
    "    day='Tuesday',\n",
    "    room='HL16'\n",
    ")"
   ],
   "metadata": {
    "collapsed": false,
    "pycharm": {
     "name": "#%% Task D\n"
    }
   }
  }
 ],
 "metadata": {
  "kernelspec": {
   "display_name": "Python 3",
   "language": "python",
   "name": "python3"
  },
  "language_info": {
   "codemirror_mode": {
    "name": "ipython",
    "version": 2
   },
   "file_extension": ".py",
   "mimetype": "text/x-python",
   "name": "python",
   "nbconvert_exporter": "python",
   "pygments_lexer": "ipython2",
   "version": "2.7.6"
  }
 },
 "nbformat": 4,
 "nbformat_minor": 0
}