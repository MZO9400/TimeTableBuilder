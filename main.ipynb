{
 "cells": [
  {
   "cell_type": "code",
   "execution_count": 13,
   "outputs": [
    {
     "name": "stdout",
     "output_type": "stream",
     "text": [
      "[{'SECTION': 'bscs_6A', 'COURSE': 'data_mining', 'INSTRUCTOR': 'muzammil', 'TIME': 'time(:(8, 45), :(10, 15))', 'DAY': 'monday', 'ROOM': 'xc2'}, {'SECTION': 'bscs_6A', 'COURSE': 'data_mining', 'INSTRUCTOR': 'muzammil', 'TIME': 'time(:(8, 45), :(10, 15))', 'DAY': 'tuesday', 'ROOM': 'xc2'}, {'SECTION': 'bscs_6A', 'COURSE': 'artificial_intelligence', 'INSTRUCTOR': 'faima_abbassi', 'TIME': 'time(:(13, 15), :(14, 45))', 'DAY': 'tuesday', 'ROOM': 'xc23'}, {'SECTION': 'bscs_6A', 'COURSE': 'numerical_analysis', 'INSTRUCTOR': 'ambrina_kanwal', 'TIME': 'time(:(14, 45), :(16, 15))', 'DAY': 'tuesday', 'ROOM': 'xc4'}, {'SECTION': 'bscs_6A', 'COURSE': 'artificial_intelligence_lab', 'INSTRUCTOR': 'faima_abbassi', 'TIME': 'time(:(8, 45), :(11, 45))', 'DAY': 'wednesday', 'ROOM': 'oclab3'}, {'SECTION': 'bscs_6A', 'COURSE': 'technical_writing_and_presentation_skills', 'INSTRUCTOR': 'tipu_ismail', 'TIME': 'time(:(8, 45), :(10, 15))', 'DAY': 'wednesday', 'ROOM': 'xc3'}, {'SECTION': 'bscs_6A', 'COURSE': 'artificial_intelligence', 'INSTRUCTOR': 'faima_abbassi', 'TIME': 'time(:(13, 15), :(14, 45))', 'DAY': 'thursday', 'ROOM': 'xc4'}, {'SECTION': 'bscs_6A', 'COURSE': 'technical_writing_and_presentation_skills', 'INSTRUCTOR': 'tipu_ismail', 'TIME': 'time(:(14, 45), :(16, 15))', 'DAY': 'thursday', 'ROOM': 'xc4'}, {'SECTION': 'bscs_6A', 'COURSE': 'numerical_analysis', 'INSTRUCTOR': 'ambrina_kanwal', 'TIME': 'time(:(16, 15), :(17, 45))', 'DAY': 'thursday', 'ROOM': 'xc1'}, {'SECTION': 'bscs_6A', 'COURSE': 'web_engineering', 'INSTRUCTOR': 'we_teacher', 'TIME': 'time(:(10, 45), :(12, 45))', 'DAY': 'friday', 'ROOM': 'hl11'}, {'SECTION': 'bscs_6A', 'COURSE': 'web_engineering_lab', 'INSTRUCTOR': 'wel_teacher', 'TIME': 'time(:(14, 45), :(17, 45))', 'DAY': 'friday', 'ROOM': 'oclab1'}, {'SECTION': 'bscs_6B', 'COURSE': 'digital_image_processing', 'INSTRUCTOR': 'mariyam_bibi', 'TIME': 'time(:(10, 45), :(12, 15))', 'DAY': 'monday', 'ROOM': 'hl11'}, {'SECTION': 'bscs_6B', 'COURSE': 'numerical_analysis', 'INSTRUCTOR': 'ambrina_kanwal', 'TIME': 'time(:(13, 15), :(14, 45))', 'DAY': 'monday', 'ROOM': 'xc4'}, {'SECTION': 'bscs_6B', 'COURSE': 'artificial_intelligence_lab', 'INSTRUCTOR': 'faima_abbassi', 'TIME': 'time(:(14, 45), :(17, 45))', 'DAY': 'monday', 'ROOM': 'oclab3'}, {'SECTION': 'bscs_6B', 'COURSE': 'introduction_to_cloud_computing', 'INSTRUCTOR': 'mariyam_khalid', 'TIME': 'time(:(11, 45), :(13, 15))', 'DAY': 'tuesday', 'ROOM': 'xc23'}, {'SECTION': 'bscs_6B', 'COURSE': 'artificial_intelligence', 'INSTRUCTOR': 'faima_abbassi', 'TIME': 'time(:(14, 45), :(16, 15))', 'DAY': 'tuesday', 'ROOM': 'xc23'}, {'SECTION': 'bscs_6B', 'COURSE': 'introduction_to_cloud_computing', 'INSTRUCTOR': 'mariyam_khalid', 'TIME': 'time(:(11, 45), :(13, 15))', 'DAY': 'wednesday', 'ROOM': 'xc3'}, {'SECTION': 'bscs_6B', 'COURSE': 'numerical_analysis', 'INSTRUCTOR': 'ambrina_kanwal', 'TIME': 'time(:(13, 15), :(14, 45))', 'DAY': 'wednesday', 'ROOM': 'xc1'}, {'SECTION': 'bscs_6B', 'COURSE': 'technical_writing_and_presentation_skills', 'INSTRUCTOR': 'tipu_ismail', 'TIME': 'time(:(14, 45), :(16, 15))', 'DAY': 'wednesday', 'ROOM': 'xc3'}, {'SECTION': 'bscs_6B', 'COURSE': 'digital_image_processing_lab', 'INSTRUCTOR': 'mariyam_bibi', 'TIME': 'time(:(8, 45), :(11, 45))', 'DAY': 'thursday', 'ROOM': 'oclab3'}, {'SECTION': 'bscs_6B', 'COURSE': 'technical_writing_and_presentation_skills', 'INSTRUCTOR': 'tipu_ismail', 'TIME': 'time(:(13, 15), :(14, 45))', 'DAY': 'thursday', 'ROOM': 'xc3'}, {'SECTION': 'bscs_6B', 'COURSE': 'artificial_intelligence', 'INSTRUCTOR': 'faima_abbassi', 'TIME': 'time(:(14, 45), :(16, 15))', 'DAY': 'thursday', 'ROOM': 'xc3'}]\n"
     ]
    }
   ],
   "source": [
    "from api import course_allocations\n",
    "\n",
    "print(list(course_allocations.query()))"
   ],
   "metadata": {
    "collapsed": false,
    "pycharm": {
     "name": "#%%\n"
    }
   }
  }
 ],
 "metadata": {
  "kernelspec": {
   "display_name": "Python 3",
   "language": "python",
   "name": "python3"
  },
  "language_info": {
   "codemirror_mode": {
    "name": "ipython",
    "version": 2
   },
   "file_extension": ".py",
   "mimetype": "text/x-python",
   "name": "python",
   "nbconvert_exporter": "python",
   "pygments_lexer": "ipython2",
   "version": "2.7.6"
  }
 },
 "nbformat": 4,
 "nbformat_minor": 0
}