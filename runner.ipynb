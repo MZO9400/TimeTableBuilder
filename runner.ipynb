{
 "cells": [
  {
   "cell_type": "code",
   "execution_count": 2,
   "metadata": {
    "collapsed": true,
    "pycharm": {
     "name": "#%%\n"
    }
   },
   "outputs": [],
   "source": [
    "%reload_ext autoreload\n",
    "%autoreload 2\n",
    "from graphics.main import TimeTableBuilder\n",
    "from api.course_allocations import PrologWrapper\n",
    "from tkinter import Tk\n",
    "\n",
    "KNOWLEDGEBASE = \"knowledgebase/course_allocations.pl\"\n",
    "\n",
    "tt = TimeTableBuilder(\n",
    "    window=Tk(),\n",
    "    course_alloc=PrologWrapper(KNOWLEDGEBASE)\n",
    ")\n",
    "tt.start()"
   ]
  }
 ],
 "metadata": {
  "kernelspec": {
   "display_name": "Python 3",
   "language": "python",
   "name": "python3"
  },
  "language_info": {
   "codemirror_mode": {
    "name": "ipython",
    "version": 2
   },
   "file_extension": ".py",
   "mimetype": "text/x-python",
   "name": "python",
   "nbconvert_exporter": "python",
   "pygments_lexer": "ipython2",
   "version": "2.7.6"
  }
 },
 "nbformat": 4,
 "nbformat_minor": 0
}